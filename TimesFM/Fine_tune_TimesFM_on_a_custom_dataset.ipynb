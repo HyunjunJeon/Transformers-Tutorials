{
  "nbformat": 4,
  "nbformat_minor": 0,
  "metadata": {
    "colab": {
      "provenance": [],
      "authorship_tag": "ABX9TyPeUfi/CB7X4xaMAG0wbK3c",
      "include_colab_link": true
    },
    "kernelspec": {
      "name": "python3",
      "display_name": "Python 3"
    },
    "language_info": {
      "name": "python"
    }
  },
  "cells": [
    {
      "cell_type": "markdown",
      "metadata": {
        "id": "view-in-github",
        "colab_type": "text"
      },
      "source": [
        "<a href=\"https://colab.research.google.com/github/NielsRogge/Transformers-Tutorials/blob/master/TimesFM/Fine_tune_TimesFM_on_a_custom_dataset.ipynb\" target=\"_parent\"><img src=\"https://colab.research.google.com/assets/colab-badge.svg\" alt=\"Open In Colab\"/></a>"
      ]
    },
    {
      "cell_type": "markdown",
      "source": [
        "# Fine-tune TimesFM on a custom dataset\n",
        "\n",
        "In this notebook, we will show that one could fine-tune Google's [TimesFM](https://huggingface.co/docs/transformers/model_doc/timesfm) (Time Series Foundation Model) on a custom dataset of time-series, besides just making zero-shot predictions. This means that we are going to update the weights of the model.\n",
        "\n",
        "## Set-up environment\n",
        "\n",
        "Let's start by installing 🤗 Transformers as well as [PEFT](https://huggingface.co/docs/peft/en/index), which will allow for Parameter-Efficient Fine-Tuning. Make sure to set \"runtime\" to \"GPU\" for faster computation."
      ],
      "metadata": {
        "id": "GJk1OdZ_a_PY"
      }
    },
    {
      "cell_type": "code",
      "source": [
        "!pip install -q --upgrade transformers peft"
      ],
      "metadata": {
        "id": "sM21Ei6Ga_Ib"
      },
      "execution_count": null,
      "outputs": []
    },
    {
      "cell_type": "markdown",
      "source": [
        "# Load dataset\n",
        "\n",
        "Let's load a dataset which hopefully is out-of-distribution for this model, consisting of some Internet-of-Things (IoT) style data which measures requests per second:"
      ],
      "metadata": {
        "id": "-4juXRjvkkOs"
      }
    },
    {
      "cell_type": "code",
      "source": [
        "import requests\n",
        "import zipfile\n",
        "import io\n",
        "import os\n",
        "from glob import glob\n",
        "from tqdm import tqdm\n",
        "import pandas as pd\n",
        "\n",
        "# URL of the zip file\n",
        "zip_url = \"https://sir-dataset.obs.cn-east-3.myhuaweicloud.com/datasets/public_dataset/public_dataset.zip\"\n",
        "\n",
        "# Directory to extract the files\n",
        "extract_dir = \"public_dataset_extracted\"\n",
        "\n",
        "# Create the extraction directory if it doesn't exist\n",
        "if not os.path.exists(extract_dir):\n",
        "    os.makedirs(extract_dir)\n",
        "\n",
        "# Download the zip file\n",
        "print(f\"Downloading {zip_url}...\")\n",
        "response = requests.get(zip_url)\n",
        "response.raise_for_status() # Raise an exception for bad status codes\n",
        "\n",
        "# Extract the zip file\n",
        "print(\"Extracting the zip file...\")\n",
        "with zipfile.ZipFile(io.BytesIO(response.content)) as z:\n",
        "    z.extractall(extract_dir)\n",
        "print(\"Extraction complete.\")\n",
        "\n",
        "# Path to the requests_minute directory\n",
        "requests_minute_dir = os.path.join(extract_dir, \"public_dataset\", \"csv_files\", \"requests_minute\")\n",
        "filenames_list = glob(requests_minute_dir + '/*.csv')\n",
        "filenames_list.sort()\n",
        "\n",
        "# Reading all columns in all per-minute requests files may take up signficant memory\n",
        "dfs_list = []\n",
        "for filename in tqdm(filenames_list):\n",
        "    # read the entire file, or read just the columns we want by passing usecols = ['time', 'day', 0, 1, 2] to pd.read_csv()\n",
        "    df_i = pd.read_csv(filename, index_col=None)\n",
        "    dfs_list.append(df_i)\n",
        "print('Concatenating dataframes')\n",
        "df_requests = pd.concat(dfs_list)\n",
        "df_requests"
      ],
      "metadata": {
        "id": "SCTlpaXc-U04",
        "colab": {
          "base_uri": "https://localhost:8080/",
          "height": 530
        },
        "outputId": "9170fb02-bade-4c6b-8781-6c7acf4f1815"
      },
      "execution_count": null,
      "outputs": [
        {
          "output_type": "stream",
          "name": "stdout",
          "text": [
            "Downloading https://sir-dataset.obs.cn-east-3.myhuaweicloud.com/datasets/public_dataset/public_dataset.zip...\n",
            "Extracting the zip file...\n",
            "Extraction complete.\n"
          ]
        },
        {
          "output_type": "stream",
          "name": "stderr",
          "text": [
            "100%|██████████| 26/26 [00:32<00:00,  1.24s/it]\n"
          ]
        },
        {
          "output_type": "stream",
          "name": "stdout",
          "text": [
            "Concatenating dataframes\n"
          ]
        },
        {
          "output_type": "execute_result",
          "data": {
            "text/plain": [
              "      day     time   0   1    2     3     4   5     6   7  ...  5083  5084  \\\n",
              "0       0        0 NaN NaN  NaN  6772  5996 NaN  1361 NaN  ...   NaN   NaN   \n",
              "1       0       60 NaN NaN  NaN  7244  6511 NaN  1551 NaN  ...   NaN   NaN   \n",
              "2       0      120 NaN NaN  NaN  5990  5412 NaN  1289 NaN  ...   NaN   NaN   \n",
              "3       0      180 NaN NaN  NaN  5742  5227 NaN  1285 NaN  ...   NaN   NaN   \n",
              "4       0      240 NaN NaN  NaN  4844  4377 NaN  1466 NaN  ...   NaN   NaN   \n",
              "...   ...      ...  ..  ..  ...   ...   ...  ..   ...  ..  ...   ...   ...   \n",
              "1435   25  2246100 NaN NaN  2.0  2308   790 NaN  3212 NaN  ...   NaN   NaN   \n",
              "1436   25  2246160 NaN NaN  NaN  2701   918 NaN  3075 NaN  ...   NaN   NaN   \n",
              "1437   25  2246220 NaN NaN  NaN  2891  1003 NaN  2752 NaN  ...   NaN   NaN   \n",
              "1438   25  2246280 NaN NaN  NaN  2827   968 NaN  2836 NaN  ...   NaN   NaN   \n",
              "1439   25  2246340 NaN NaN  NaN  3170  1059 NaN  2826 NaN  ...   NaN   NaN   \n",
              "\n",
              "      5085  5086  5087  5088  5089  5090  5091  5092  \n",
              "0      NaN   NaN   NaN   NaN   NaN   NaN   NaN   NaN  \n",
              "1      NaN   NaN   NaN   NaN   NaN   NaN   NaN   NaN  \n",
              "2      NaN   NaN   NaN   NaN   NaN   NaN   NaN   NaN  \n",
              "3      NaN   NaN   NaN   NaN   NaN   NaN   NaN   NaN  \n",
              "4      NaN   NaN   NaN   NaN   NaN   NaN   NaN   NaN  \n",
              "...    ...   ...   ...   ...   ...   ...   ...   ...  \n",
              "1435   NaN   NaN   NaN   NaN   NaN   NaN   NaN   NaN  \n",
              "1436   NaN   NaN   NaN   NaN   NaN   NaN   NaN   NaN  \n",
              "1437   NaN   NaN   NaN   NaN   NaN   NaN   NaN   NaN  \n",
              "1438   NaN   NaN   NaN   NaN   NaN   NaN   NaN   NaN  \n",
              "1439   NaN   NaN   NaN   NaN   NaN   NaN   NaN   NaN  \n",
              "\n",
              "[37440 rows x 5095 columns]"
            ],
            "text/html": [
              "\n",
              "  <div id=\"df-db967b3f-af88-4627-8b97-9028ab37fb92\" class=\"colab-df-container\">\n",
              "    <div>\n",
              "<style scoped>\n",
              "    .dataframe tbody tr th:only-of-type {\n",
              "        vertical-align: middle;\n",
              "    }\n",
              "\n",
              "    .dataframe tbody tr th {\n",
              "        vertical-align: top;\n",
              "    }\n",
              "\n",
              "    .dataframe thead th {\n",
              "        text-align: right;\n",
              "    }\n",
              "</style>\n",
              "<table border=\"1\" class=\"dataframe\">\n",
              "  <thead>\n",
              "    <tr style=\"text-align: right;\">\n",
              "      <th></th>\n",
              "      <th>day</th>\n",
              "      <th>time</th>\n",
              "      <th>0</th>\n",
              "      <th>1</th>\n",
              "      <th>2</th>\n",
              "      <th>3</th>\n",
              "      <th>4</th>\n",
              "      <th>5</th>\n",
              "      <th>6</th>\n",
              "      <th>7</th>\n",
              "      <th>...</th>\n",
              "      <th>5083</th>\n",
              "      <th>5084</th>\n",
              "      <th>5085</th>\n",
              "      <th>5086</th>\n",
              "      <th>5087</th>\n",
              "      <th>5088</th>\n",
              "      <th>5089</th>\n",
              "      <th>5090</th>\n",
              "      <th>5091</th>\n",
              "      <th>5092</th>\n",
              "    </tr>\n",
              "  </thead>\n",
              "  <tbody>\n",
              "    <tr>\n",
              "      <th>0</th>\n",
              "      <td>0</td>\n",
              "      <td>0</td>\n",
              "      <td>NaN</td>\n",
              "      <td>NaN</td>\n",
              "      <td>NaN</td>\n",
              "      <td>6772</td>\n",
              "      <td>5996</td>\n",
              "      <td>NaN</td>\n",
              "      <td>1361</td>\n",
              "      <td>NaN</td>\n",
              "      <td>...</td>\n",
              "      <td>NaN</td>\n",
              "      <td>NaN</td>\n",
              "      <td>NaN</td>\n",
              "      <td>NaN</td>\n",
              "      <td>NaN</td>\n",
              "      <td>NaN</td>\n",
              "      <td>NaN</td>\n",
              "      <td>NaN</td>\n",
              "      <td>NaN</td>\n",
              "      <td>NaN</td>\n",
              "    </tr>\n",
              "    <tr>\n",
              "      <th>1</th>\n",
              "      <td>0</td>\n",
              "      <td>60</td>\n",
              "      <td>NaN</td>\n",
              "      <td>NaN</td>\n",
              "      <td>NaN</td>\n",
              "      <td>7244</td>\n",
              "      <td>6511</td>\n",
              "      <td>NaN</td>\n",
              "      <td>1551</td>\n",
              "      <td>NaN</td>\n",
              "      <td>...</td>\n",
              "      <td>NaN</td>\n",
              "      <td>NaN</td>\n",
              "      <td>NaN</td>\n",
              "      <td>NaN</td>\n",
              "      <td>NaN</td>\n",
              "      <td>NaN</td>\n",
              "      <td>NaN</td>\n",
              "      <td>NaN</td>\n",
              "      <td>NaN</td>\n",
              "      <td>NaN</td>\n",
              "    </tr>\n",
              "    <tr>\n",
              "      <th>2</th>\n",
              "      <td>0</td>\n",
              "      <td>120</td>\n",
              "      <td>NaN</td>\n",
              "      <td>NaN</td>\n",
              "      <td>NaN</td>\n",
              "      <td>5990</td>\n",
              "      <td>5412</td>\n",
              "      <td>NaN</td>\n",
              "      <td>1289</td>\n",
              "      <td>NaN</td>\n",
              "      <td>...</td>\n",
              "      <td>NaN</td>\n",
              "      <td>NaN</td>\n",
              "      <td>NaN</td>\n",
              "      <td>NaN</td>\n",
              "      <td>NaN</td>\n",
              "      <td>NaN</td>\n",
              "      <td>NaN</td>\n",
              "      <td>NaN</td>\n",
              "      <td>NaN</td>\n",
              "      <td>NaN</td>\n",
              "    </tr>\n",
              "    <tr>\n",
              "      <th>3</th>\n",
              "      <td>0</td>\n",
              "      <td>180</td>\n",
              "      <td>NaN</td>\n",
              "      <td>NaN</td>\n",
              "      <td>NaN</td>\n",
              "      <td>5742</td>\n",
              "      <td>5227</td>\n",
              "      <td>NaN</td>\n",
              "      <td>1285</td>\n",
              "      <td>NaN</td>\n",
              "      <td>...</td>\n",
              "      <td>NaN</td>\n",
              "      <td>NaN</td>\n",
              "      <td>NaN</td>\n",
              "      <td>NaN</td>\n",
              "      <td>NaN</td>\n",
              "      <td>NaN</td>\n",
              "      <td>NaN</td>\n",
              "      <td>NaN</td>\n",
              "      <td>NaN</td>\n",
              "      <td>NaN</td>\n",
              "    </tr>\n",
              "    <tr>\n",
              "      <th>4</th>\n",
              "      <td>0</td>\n",
              "      <td>240</td>\n",
              "      <td>NaN</td>\n",
              "      <td>NaN</td>\n",
              "      <td>NaN</td>\n",
              "      <td>4844</td>\n",
              "      <td>4377</td>\n",
              "      <td>NaN</td>\n",
              "      <td>1466</td>\n",
              "      <td>NaN</td>\n",
              "      <td>...</td>\n",
              "      <td>NaN</td>\n",
              "      <td>NaN</td>\n",
              "      <td>NaN</td>\n",
              "      <td>NaN</td>\n",
              "      <td>NaN</td>\n",
              "      <td>NaN</td>\n",
              "      <td>NaN</td>\n",
              "      <td>NaN</td>\n",
              "      <td>NaN</td>\n",
              "      <td>NaN</td>\n",
              "    </tr>\n",
              "    <tr>\n",
              "      <th>...</th>\n",
              "      <td>...</td>\n",
              "      <td>...</td>\n",
              "      <td>...</td>\n",
              "      <td>...</td>\n",
              "      <td>...</td>\n",
              "      <td>...</td>\n",
              "      <td>...</td>\n",
              "      <td>...</td>\n",
              "      <td>...</td>\n",
              "      <td>...</td>\n",
              "      <td>...</td>\n",
              "      <td>...</td>\n",
              "      <td>...</td>\n",
              "      <td>...</td>\n",
              "      <td>...</td>\n",
              "      <td>...</td>\n",
              "      <td>...</td>\n",
              "      <td>...</td>\n",
              "      <td>...</td>\n",
              "      <td>...</td>\n",
              "      <td>...</td>\n",
              "    </tr>\n",
              "    <tr>\n",
              "      <th>1435</th>\n",
              "      <td>25</td>\n",
              "      <td>2246100</td>\n",
              "      <td>NaN</td>\n",
              "      <td>NaN</td>\n",
              "      <td>2.0</td>\n",
              "      <td>2308</td>\n",
              "      <td>790</td>\n",
              "      <td>NaN</td>\n",
              "      <td>3212</td>\n",
              "      <td>NaN</td>\n",
              "      <td>...</td>\n",
              "      <td>NaN</td>\n",
              "      <td>NaN</td>\n",
              "      <td>NaN</td>\n",
              "      <td>NaN</td>\n",
              "      <td>NaN</td>\n",
              "      <td>NaN</td>\n",
              "      <td>NaN</td>\n",
              "      <td>NaN</td>\n",
              "      <td>NaN</td>\n",
              "      <td>NaN</td>\n",
              "    </tr>\n",
              "    <tr>\n",
              "      <th>1436</th>\n",
              "      <td>25</td>\n",
              "      <td>2246160</td>\n",
              "      <td>NaN</td>\n",
              "      <td>NaN</td>\n",
              "      <td>NaN</td>\n",
              "      <td>2701</td>\n",
              "      <td>918</td>\n",
              "      <td>NaN</td>\n",
              "      <td>3075</td>\n",
              "      <td>NaN</td>\n",
              "      <td>...</td>\n",
              "      <td>NaN</td>\n",
              "      <td>NaN</td>\n",
              "      <td>NaN</td>\n",
              "      <td>NaN</td>\n",
              "      <td>NaN</td>\n",
              "      <td>NaN</td>\n",
              "      <td>NaN</td>\n",
              "      <td>NaN</td>\n",
              "      <td>NaN</td>\n",
              "      <td>NaN</td>\n",
              "    </tr>\n",
              "    <tr>\n",
              "      <th>1437</th>\n",
              "      <td>25</td>\n",
              "      <td>2246220</td>\n",
              "      <td>NaN</td>\n",
              "      <td>NaN</td>\n",
              "      <td>NaN</td>\n",
              "      <td>2891</td>\n",
              "      <td>1003</td>\n",
              "      <td>NaN</td>\n",
              "      <td>2752</td>\n",
              "      <td>NaN</td>\n",
              "      <td>...</td>\n",
              "      <td>NaN</td>\n",
              "      <td>NaN</td>\n",
              "      <td>NaN</td>\n",
              "      <td>NaN</td>\n",
              "      <td>NaN</td>\n",
              "      <td>NaN</td>\n",
              "      <td>NaN</td>\n",
              "      <td>NaN</td>\n",
              "      <td>NaN</td>\n",
              "      <td>NaN</td>\n",
              "    </tr>\n",
              "    <tr>\n",
              "      <th>1438</th>\n",
              "      <td>25</td>\n",
              "      <td>2246280</td>\n",
              "      <td>NaN</td>\n",
              "      <td>NaN</td>\n",
              "      <td>NaN</td>\n",
              "      <td>2827</td>\n",
              "      <td>968</td>\n",
              "      <td>NaN</td>\n",
              "      <td>2836</td>\n",
              "      <td>NaN</td>\n",
              "      <td>...</td>\n",
              "      <td>NaN</td>\n",
              "      <td>NaN</td>\n",
              "      <td>NaN</td>\n",
              "      <td>NaN</td>\n",
              "      <td>NaN</td>\n",
              "      <td>NaN</td>\n",
              "      <td>NaN</td>\n",
              "      <td>NaN</td>\n",
              "      <td>NaN</td>\n",
              "      <td>NaN</td>\n",
              "    </tr>\n",
              "    <tr>\n",
              "      <th>1439</th>\n",
              "      <td>25</td>\n",
              "      <td>2246340</td>\n",
              "      <td>NaN</td>\n",
              "      <td>NaN</td>\n",
              "      <td>NaN</td>\n",
              "      <td>3170</td>\n",
              "      <td>1059</td>\n",
              "      <td>NaN</td>\n",
              "      <td>2826</td>\n",
              "      <td>NaN</td>\n",
              "      <td>...</td>\n",
              "      <td>NaN</td>\n",
              "      <td>NaN</td>\n",
              "      <td>NaN</td>\n",
              "      <td>NaN</td>\n",
              "      <td>NaN</td>\n",
              "      <td>NaN</td>\n",
              "      <td>NaN</td>\n",
              "      <td>NaN</td>\n",
              "      <td>NaN</td>\n",
              "      <td>NaN</td>\n",
              "    </tr>\n",
              "  </tbody>\n",
              "</table>\n",
              "<p>37440 rows × 5095 columns</p>\n",
              "</div>\n",
              "    <div class=\"colab-df-buttons\">\n",
              "\n",
              "  <div class=\"colab-df-container\">\n",
              "    <button class=\"colab-df-convert\" onclick=\"convertToInteractive('df-db967b3f-af88-4627-8b97-9028ab37fb92')\"\n",
              "            title=\"Convert this dataframe to an interactive table.\"\n",
              "            style=\"display:none;\">\n",
              "\n",
              "  <svg xmlns=\"http://www.w3.org/2000/svg\" height=\"24px\" viewBox=\"0 -960 960 960\">\n",
              "    <path d=\"M120-120v-720h720v720H120Zm60-500h600v-160H180v160Zm220 220h160v-160H400v160Zm0 220h160v-160H400v160ZM180-400h160v-160H180v160Zm440 0h160v-160H620v160ZM180-180h160v-160H180v160Zm440 0h160v-160H620v160Z\"/>\n",
              "  </svg>\n",
              "    </button>\n",
              "\n",
              "  <style>\n",
              "    .colab-df-container {\n",
              "      display:flex;\n",
              "      gap: 12px;\n",
              "    }\n",
              "\n",
              "    .colab-df-convert {\n",
              "      background-color: #E8F0FE;\n",
              "      border: none;\n",
              "      border-radius: 50%;\n",
              "      cursor: pointer;\n",
              "      display: none;\n",
              "      fill: #1967D2;\n",
              "      height: 32px;\n",
              "      padding: 0 0 0 0;\n",
              "      width: 32px;\n",
              "    }\n",
              "\n",
              "    .colab-df-convert:hover {\n",
              "      background-color: #E2EBFA;\n",
              "      box-shadow: 0px 1px 2px rgba(60, 64, 67, 0.3), 0px 1px 3px 1px rgba(60, 64, 67, 0.15);\n",
              "      fill: #174EA6;\n",
              "    }\n",
              "\n",
              "    .colab-df-buttons div {\n",
              "      margin-bottom: 4px;\n",
              "    }\n",
              "\n",
              "    [theme=dark] .colab-df-convert {\n",
              "      background-color: #3B4455;\n",
              "      fill: #D2E3FC;\n",
              "    }\n",
              "\n",
              "    [theme=dark] .colab-df-convert:hover {\n",
              "      background-color: #434B5C;\n",
              "      box-shadow: 0px 1px 3px 1px rgba(0, 0, 0, 0.15);\n",
              "      filter: drop-shadow(0px 1px 2px rgba(0, 0, 0, 0.3));\n",
              "      fill: #FFFFFF;\n",
              "    }\n",
              "  </style>\n",
              "\n",
              "    <script>\n",
              "      const buttonEl =\n",
              "        document.querySelector('#df-db967b3f-af88-4627-8b97-9028ab37fb92 button.colab-df-convert');\n",
              "      buttonEl.style.display =\n",
              "        google.colab.kernel.accessAllowed ? 'block' : 'none';\n",
              "\n",
              "      async function convertToInteractive(key) {\n",
              "        const element = document.querySelector('#df-db967b3f-af88-4627-8b97-9028ab37fb92');\n",
              "        const dataTable =\n",
              "          await google.colab.kernel.invokeFunction('convertToInteractive',\n",
              "                                                    [key], {});\n",
              "        if (!dataTable) return;\n",
              "\n",
              "        const docLinkHtml = 'Like what you see? Visit the ' +\n",
              "          '<a target=\"_blank\" href=https://colab.research.google.com/notebooks/data_table.ipynb>data table notebook</a>'\n",
              "          + ' to learn more about interactive tables.';\n",
              "        element.innerHTML = '';\n",
              "        dataTable['output_type'] = 'display_data';\n",
              "        await google.colab.output.renderOutput(dataTable, element);\n",
              "        const docLink = document.createElement('div');\n",
              "        docLink.innerHTML = docLinkHtml;\n",
              "        element.appendChild(docLink);\n",
              "      }\n",
              "    </script>\n",
              "  </div>\n",
              "\n",
              "\n",
              "    <div id=\"df-746cb195-385b-4182-90b4-07e471c47dcb\">\n",
              "      <button class=\"colab-df-quickchart\" onclick=\"quickchart('df-746cb195-385b-4182-90b4-07e471c47dcb')\"\n",
              "                title=\"Suggest charts\"\n",
              "                style=\"display:none;\">\n",
              "\n",
              "<svg xmlns=\"http://www.w3.org/2000/svg\" height=\"24px\"viewBox=\"0 0 24 24\"\n",
              "     width=\"24px\">\n",
              "    <g>\n",
              "        <path d=\"M19 3H5c-1.1 0-2 .9-2 2v14c0 1.1.9 2 2 2h14c1.1 0 2-.9 2-2V5c0-1.1-.9-2-2-2zM9 17H7v-7h2v7zm4 0h-2V7h2v10zm4 0h-2v-4h2v4z\"/>\n",
              "    </g>\n",
              "</svg>\n",
              "      </button>\n",
              "\n",
              "<style>\n",
              "  .colab-df-quickchart {\n",
              "      --bg-color: #E8F0FE;\n",
              "      --fill-color: #1967D2;\n",
              "      --hover-bg-color: #E2EBFA;\n",
              "      --hover-fill-color: #174EA6;\n",
              "      --disabled-fill-color: #AAA;\n",
              "      --disabled-bg-color: #DDD;\n",
              "  }\n",
              "\n",
              "  [theme=dark] .colab-df-quickchart {\n",
              "      --bg-color: #3B4455;\n",
              "      --fill-color: #D2E3FC;\n",
              "      --hover-bg-color: #434B5C;\n",
              "      --hover-fill-color: #FFFFFF;\n",
              "      --disabled-bg-color: #3B4455;\n",
              "      --disabled-fill-color: #666;\n",
              "  }\n",
              "\n",
              "  .colab-df-quickchart {\n",
              "    background-color: var(--bg-color);\n",
              "    border: none;\n",
              "    border-radius: 50%;\n",
              "    cursor: pointer;\n",
              "    display: none;\n",
              "    fill: var(--fill-color);\n",
              "    height: 32px;\n",
              "    padding: 0;\n",
              "    width: 32px;\n",
              "  }\n",
              "\n",
              "  .colab-df-quickchart:hover {\n",
              "    background-color: var(--hover-bg-color);\n",
              "    box-shadow: 0 1px 2px rgba(60, 64, 67, 0.3), 0 1px 3px 1px rgba(60, 64, 67, 0.15);\n",
              "    fill: var(--button-hover-fill-color);\n",
              "  }\n",
              "\n",
              "  .colab-df-quickchart-complete:disabled,\n",
              "  .colab-df-quickchart-complete:disabled:hover {\n",
              "    background-color: var(--disabled-bg-color);\n",
              "    fill: var(--disabled-fill-color);\n",
              "    box-shadow: none;\n",
              "  }\n",
              "\n",
              "  .colab-df-spinner {\n",
              "    border: 2px solid var(--fill-color);\n",
              "    border-color: transparent;\n",
              "    border-bottom-color: var(--fill-color);\n",
              "    animation:\n",
              "      spin 1s steps(1) infinite;\n",
              "  }\n",
              "\n",
              "  @keyframes spin {\n",
              "    0% {\n",
              "      border-color: transparent;\n",
              "      border-bottom-color: var(--fill-color);\n",
              "      border-left-color: var(--fill-color);\n",
              "    }\n",
              "    20% {\n",
              "      border-color: transparent;\n",
              "      border-left-color: var(--fill-color);\n",
              "      border-top-color: var(--fill-color);\n",
              "    }\n",
              "    30% {\n",
              "      border-color: transparent;\n",
              "      border-left-color: var(--fill-color);\n",
              "      border-top-color: var(--fill-color);\n",
              "      border-right-color: var(--fill-color);\n",
              "    }\n",
              "    40% {\n",
              "      border-color: transparent;\n",
              "      border-right-color: var(--fill-color);\n",
              "      border-top-color: var(--fill-color);\n",
              "    }\n",
              "    60% {\n",
              "      border-color: transparent;\n",
              "      border-right-color: var(--fill-color);\n",
              "    }\n",
              "    80% {\n",
              "      border-color: transparent;\n",
              "      border-right-color: var(--fill-color);\n",
              "      border-bottom-color: var(--fill-color);\n",
              "    }\n",
              "    90% {\n",
              "      border-color: transparent;\n",
              "      border-bottom-color: var(--fill-color);\n",
              "    }\n",
              "  }\n",
              "</style>\n",
              "\n",
              "      <script>\n",
              "        async function quickchart(key) {\n",
              "          const quickchartButtonEl =\n",
              "            document.querySelector('#' + key + ' button');\n",
              "          quickchartButtonEl.disabled = true;  // To prevent multiple clicks.\n",
              "          quickchartButtonEl.classList.add('colab-df-spinner');\n",
              "          try {\n",
              "            const charts = await google.colab.kernel.invokeFunction(\n",
              "                'suggestCharts', [key], {});\n",
              "          } catch (error) {\n",
              "            console.error('Error during call to suggestCharts:', error);\n",
              "          }\n",
              "          quickchartButtonEl.classList.remove('colab-df-spinner');\n",
              "          quickchartButtonEl.classList.add('colab-df-quickchart-complete');\n",
              "        }\n",
              "        (() => {\n",
              "          let quickchartButtonEl =\n",
              "            document.querySelector('#df-746cb195-385b-4182-90b4-07e471c47dcb button');\n",
              "          quickchartButtonEl.style.display =\n",
              "            google.colab.kernel.accessAllowed ? 'block' : 'none';\n",
              "        })();\n",
              "      </script>\n",
              "    </div>\n",
              "\n",
              "  <div id=\"id_d370376d-edb3-486f-9540-855caef00529\">\n",
              "    <style>\n",
              "      .colab-df-generate {\n",
              "        background-color: #E8F0FE;\n",
              "        border: none;\n",
              "        border-radius: 50%;\n",
              "        cursor: pointer;\n",
              "        display: none;\n",
              "        fill: #1967D2;\n",
              "        height: 32px;\n",
              "        padding: 0 0 0 0;\n",
              "        width: 32px;\n",
              "      }\n",
              "\n",
              "      .colab-df-generate:hover {\n",
              "        background-color: #E2EBFA;\n",
              "        box-shadow: 0px 1px 2px rgba(60, 64, 67, 0.3), 0px 1px 3px 1px rgba(60, 64, 67, 0.15);\n",
              "        fill: #174EA6;\n",
              "      }\n",
              "\n",
              "      [theme=dark] .colab-df-generate {\n",
              "        background-color: #3B4455;\n",
              "        fill: #D2E3FC;\n",
              "      }\n",
              "\n",
              "      [theme=dark] .colab-df-generate:hover {\n",
              "        background-color: #434B5C;\n",
              "        box-shadow: 0px 1px 3px 1px rgba(0, 0, 0, 0.15);\n",
              "        filter: drop-shadow(0px 1px 2px rgba(0, 0, 0, 0.3));\n",
              "        fill: #FFFFFF;\n",
              "      }\n",
              "    </style>\n",
              "    <button class=\"colab-df-generate\" onclick=\"generateWithVariable('df_requests')\"\n",
              "            title=\"Generate code using this dataframe.\"\n",
              "            style=\"display:none;\">\n",
              "\n",
              "  <svg xmlns=\"http://www.w3.org/2000/svg\" height=\"24px\"viewBox=\"0 0 24 24\"\n",
              "       width=\"24px\">\n",
              "    <path d=\"M7,19H8.4L18.45,9,17,7.55,7,17.6ZM5,21V16.75L18.45,3.32a2,2,0,0,1,2.83,0l1.4,1.43a1.91,1.91,0,0,1,.58,1.4,1.91,1.91,0,0,1-.58,1.4L9.25,21ZM18.45,9,17,7.55Zm-12,3A5.31,5.31,0,0,0,4.9,8.1,5.31,5.31,0,0,0,1,6.5,5.31,5.31,0,0,0,4.9,4.9,5.31,5.31,0,0,0,6.5,1,5.31,5.31,0,0,0,8.1,4.9,5.31,5.31,0,0,0,12,6.5,5.46,5.46,0,0,0,6.5,12Z\"/>\n",
              "  </svg>\n",
              "    </button>\n",
              "    <script>\n",
              "      (() => {\n",
              "      const buttonEl =\n",
              "        document.querySelector('#id_d370376d-edb3-486f-9540-855caef00529 button.colab-df-generate');\n",
              "      buttonEl.style.display =\n",
              "        google.colab.kernel.accessAllowed ? 'block' : 'none';\n",
              "\n",
              "      buttonEl.onclick = () => {\n",
              "        google.colab.notebook.generateWithVariable('df_requests');\n",
              "      }\n",
              "      })();\n",
              "    </script>\n",
              "  </div>\n",
              "\n",
              "    </div>\n",
              "  </div>\n"
            ],
            "application/vnd.google.colaboratory.intrinsic+json": {
              "type": "dataframe",
              "variable_name": "df_requests"
            }
          },
          "metadata": {},
          "execution_count": 2
        }
      ]
    },
    {
      "cell_type": "markdown",
      "source": [
        "The first 2 columns contain the date information (day and time), whereas all other columns contain individual time series, measuring different things.\n",
        "\n",
        "Let's plot the time series of the 3rd column:"
      ],
      "metadata": {
        "id": "Vao58BH_ktuE"
      }
    },
    {
      "cell_type": "code",
      "source": [
        "from matplotlib import pyplot as plt\n",
        "\n",
        "fig = plt.figure(figsize=(16, 3))\n",
        "\n",
        "plt.scatter(df_requests['time'], df_requests['3'], s=1)\n",
        "plt.xlabel('Time in seconds')\n",
        "plt.ylabel('Requests per minute')\n",
        "plt.title('[Full length] Requests per minute over time for function nr 3')\n",
        "plt.show()\n",
        "\n",
        "n_days = 7\n",
        "fig = plt.figure(figsize=(16, 3))\n",
        "plt.scatter(df_requests['time'], df_requests['3'], s=1)\n",
        "plt.xlabel('Time in seconds')\n",
        "plt.ylabel('Requests per minute')\n",
        "plt.title('[First {} days] Requests per minute over time for function nr 3'.format(n_days))\n",
        "plt.xlim(0, 86400*n_days)\n",
        "plt.show()"
      ],
      "metadata": {
        "colab": {
          "base_uri": "https://localhost:8080/",
          "height": 579
        },
        "id": "rzvYyNUKfsE2",
        "outputId": "d0087448-2ed6-4add-88ae-397ff3d2a2e9"
      },
      "execution_count": null,
      "outputs": [
        {
          "output_type": "display_data",
          "data": {
            "text/plain": [
              "<Figure size 1600x300 with 1 Axes>"
            ],
            "image/png": "[encoded data removed]"
          },
          "metadata": {}
        },
        {
          "output_type": "display_data",
          "data": {
            "text/plain": [
              "<Figure size 1600x300 with 1 Axes>"
            ],
            "image/png": "[encoded data removed]"
          },
          "metadata": {}
        }
      ]
    },
    {
      "cell_type": "markdown",
      "source": [
        "## Load model\n",
        "\n",
        "Next we load the pre-trained TimesFM model, released by Google, from the 🤗 hub.\n",
        "\n",
        "We also specify some additional parameters, namely:\n",
        "- load the model in bfloat16 precision (this reduces the memory usage)\n",
        "- use the [\"sdpa\"](https://docs.pytorch.org/tutorials/intermediate/scaled_dot_product_attention_tutorial.html) version of attention, for faster attention computation\n",
        "- put it on the GPU, if available."
      ],
      "metadata": {
        "id": "tWTDbnZva7Wy"
      }
    },
    {
      "cell_type": "code",
      "source": [
        "import torch\n",
        "from transformers import TimesFmModelForPrediction\n",
        "\n",
        "model = TimesFmModelForPrediction.from_pretrained(\n",
        "    \"google/timesfm-2.0-500m-pytorch\",\n",
        "    attn_implementation=\"sdpa\",\n",
        "    device_map=\"cuda\" if torch.cuda.is_available() else None\n",
        ")"
      ],
      "metadata": {
        "id": "cHY1hl7ta7Po"
      },
      "execution_count": null,
      "outputs": []
    },
    {
      "cell_type": "markdown",
      "source": [
        "## Perform zero-shot forecasting\n",
        "\n",
        "Before starting to fine-tune (updating the weights), we can test out the performance of the model out-of-the-box. Given TimesFM has been pre-trained on millions of time-series, it should already do a decent job.\n",
        "\n",
        "For that we can perform a single forward pass through the model."
      ],
      "metadata": {
        "id": "u_pTXTLAraWn"
      }
    },
    {
      "cell_type": "code",
      "source": [
        "# take the first time series of the dataset\n",
        "time_series = df_requests['3']"
      ],
      "metadata": {
        "id": "eiVWby5biSR4"
      },
      "execution_count": null,
      "outputs": []
    },
    {
      "cell_type": "code",
      "source": [
        "# use the default context and horizon length of the model\n",
        "context_length = model.config.context_length\n",
        "horizon_length = model.config.horizon_length"
      ],
      "metadata": {
        "id": "6yqUlDcwmBxs"
      },
      "execution_count": null,
      "outputs": []
    },
    {
      "cell_type": "code",
      "source": [
        "context_values = time_series[-context_length + horizon_length:]"
      ],
      "metadata": {
        "id": "eEMpATvAmIi_"
      },
      "execution_count": null,
      "outputs": []
    },
    {
      "cell_type": "code",
      "source": [
        "ground_truth = time_series[-horizon_length:]"
      ],
      "metadata": {
        "id": "OvWpmnEKmDpt"
      },
      "execution_count": null,
      "outputs": []
    },
    {
      "cell_type": "code",
      "source": [
        "past_values = torch.tensor(context_values.values).unsqueeze(0).to(device=model.device)"
      ],
      "metadata": {
        "id": "ZpIcWE8-mNV5"
      },
      "execution_count": null,
      "outputs": []
    },
    {
      "cell_type": "markdown",
      "source": [
        "We also specify the frequency indicator, which in this case is 0, givne the data is per minute (refer to the [README of TimesFM](https://github.com/google-research/timesfm) for more details)."
      ],
      "metadata": {
        "id": "JJABm61ObrDZ"
      }
    },
    {
      "cell_type": "code",
      "source": [
        "frequency_id = [[0]]"
      ],
      "metadata": {
        "id": "hs7LopLDmb4W"
      },
      "execution_count": null,
      "outputs": []
    },
    {
      "cell_type": "code",
      "source": [
        "# forward pass\n",
        "with torch.inference_mode():\n",
        "  outputs = model(past_values=past_values, freq=frequency_id)"
      ],
      "metadata": {
        "id": "UaB2xWxAmi-U"
      },
      "execution_count": null,
      "outputs": []
    },
    {
      "cell_type": "markdown",
      "source": [
        "Let's plot the model's mean predictions alongside the ground truth data:"
      ],
      "metadata": {
        "id": "F9PU7gKQr08b"
      }
    },
    {
      "cell_type": "code",
      "source": [
        "context_indices = range(0, context_length-horizon_length)\n",
        "plt.plot(context_indices, context_values, label='Context Data', color='blue')\n",
        "\n",
        "# Plot the ground truth data\n",
        "ground_truth_indices = range(context_length-horizon_length, context_length)\n",
        "plt.plot(ground_truth_indices, ground_truth, label='Ground Truth', color='green')\n",
        "\n",
        "# Plot the predicted values\n",
        "predicted_indices = range(context_length-horizon_length, context_length)\n",
        "plt.plot(predicted_indices, outputs.mean_predictions[0].cpu(), label='Mean Predictions', color='red', linestyle='--')\n",
        "\n",
        "plt.xlabel('Time Index')\n",
        "plt.ylabel('Requests per minute')\n",
        "plt.title(f'TimesFM Forecasting for df_requests[\\'3\\'] (Context Length: {context_length}, Horizon Length: {horizon_length})')\n",
        "plt.legend()\n",
        "plt.grid(True)\n",
        "plt.show()"
      ],
      "metadata": {
        "colab": {
          "base_uri": "https://localhost:8080/",
          "height": 472
        },
        "id": "eYi-dy7Ymsus",
        "outputId": "9f399763-9ca5-40fc-d253-fdc232219eea"
      },
      "execution_count": null,
      "outputs": [
        {
          "output_type": "display_data",
          "data": {
            "text/plain": [
              "<Figure size 640x480 with 1 Axes>"
            ],
            "image/png": "[encoded data removed]"
          },
          "metadata": {}
        }
      ]
    },
    {
      "cell_type": "markdown",
      "source": [
        "## Create PyTorch dataset\n",
        "\n",
        "Next, let's create a [custom PyTorch dataset](https://docs.pytorch.org/tutorials/beginner/data_loading_tutorial.html?highlight=dataset). For that we need to implement 3 methods:\n",
        "- an init method, which initializes the dataset by setting some variables\n",
        "- a length method, which returns the length of the dataset\n",
        "- a getitem method, which returns one item of the dataset."
      ],
      "metadata": {
        "id": "zKC65RHqr7Qj"
      }
    },
    {
      "cell_type": "code",
      "source": [
        "from torch.utils.data import Dataset\n",
        "\n",
        "class TimeSeriesRandomDataset(Dataset):\n",
        "    def __init__(self, time_series, context_length, horizon_length):\n",
        "        \"\"\"\n",
        "        Args:\n",
        "            time_series (numpy.ndarray or pandas.Series): The time series data.\n",
        "            context_length (int): The length of the context window.\n",
        "            horizon_length (int): The length of the horizon window (ground truth).\n",
        "        \"\"\"\n",
        "        if isinstance(time_series, pd.Series):\n",
        "            self.time_series = time_series.dropna().values\n",
        "        else:\n",
        "            self.time_series = time_series\n",
        "            if not isinstance(self.time_series, np.ndarray):\n",
        "                self.time_series = np.array(self.time_series)\n",
        "\n",
        "        self.context_length = context_length\n",
        "        self.horizon_length = horizon_length\n",
        "        self.total_window_length = context_length + horizon_length\n",
        "\n",
        "        # The range of possible starting indices for a window\n",
        "        # A window of total_window_length must fit within the time series\n",
        "        self.max_start_index = len(self.time_series) - self.total_window_length\n",
        "\n",
        "        if self.max_start_index < 0:\n",
        "            raise ValueError(f\"Time series is too short for the specified context ({context_length}) and horizon ({horizon_length}) lengths.\")\n",
        "\n",
        "        # We can define an arbitrary number of \"epochs\" or iterations per actual data point\n",
        "        # For random sampling, the number of samples can be larger than the number of possible distinct windows\n",
        "        self.num_samples = 1000 # You can adjust this number based on your desired dataset size\n",
        "\n",
        "    def __len__(self):\n",
        "        return self.num_samples # Return the predefined number of samples\n",
        "\n",
        "    def __getitem__(self, idx):\n",
        "        \"\"\"\n",
        "        Returns a random sample containing the context window and the subsequent horizon window.\n",
        "\n",
        "        Args:\n",
        "            idx (int): The index (ignored in random sampling, but required by Dataset).\n",
        "\n",
        "        Returns:\n",
        "            dict: A dictionary containing:\n",
        "                'context': The context window (numpy.ndarray).\n",
        "                'ground_truth': The subsequent horizon window (numpy.ndarray).\n",
        "        \"\"\"\n",
        "        # Generate a random starting index within the valid range\n",
        "        start_index = np.random.randint(0, self.max_start_index + 1)\n",
        "\n",
        "        end_index = start_index + self.total_window_length\n",
        "\n",
        "        window = self.time_series[start_index:end_index]\n",
        "\n",
        "        context = window[:self.context_length]\n",
        "        ground_truth = window[self.context_length:]\n",
        "\n",
        "        return {'context': context, 'ground_truth': ground_truth}"
      ],
      "metadata": {
        "id": "wAIw2b8-o8QO"
      },
      "execution_count": null,
      "outputs": []
    },
    {
      "cell_type": "markdown",
      "source": [
        "Let's instantiate the dataset and create a corresponding PyTorch Dataloader, which allows us to get batches of data.\n",
        "\n",
        "Neural networks are typically trained on batches of data, using a variant of stochastic gradient descent (SGD). We will train with a batch size of 32."
      ],
      "metadata": {
        "id": "f6BEL8n2cHU0"
      }
    },
    {
      "cell_type": "code",
      "source": [
        "from torch.utils.data import DataLoader\n",
        "\n",
        "# Create the dataset\n",
        "time_series_random_dataset = TimeSeriesRandomDataset(time_series, context_length, horizon_length)\n",
        "\n",
        "# Create the dataloader\n",
        "# batch_size determines how many windows are returned in each batch\n",
        "# `shuffle` is often set to `False` when the dataset itself is random\n",
        "batch_size = 32\n",
        "time_series_random_dataloader = DataLoader(time_series_random_dataset, batch_size=batch_size, shuffle=False) # shuffle=False here as sampling is random"
      ],
      "metadata": {
        "id": "1ZZvj35LtFMU"
      },
      "execution_count": null,
      "outputs": []
    },
    {
      "cell_type": "markdown",
      "source": [
        "## Train the model\n",
        "\n",
        "Next we can train the model in native PyTorch. We apply [LoRa](https://huggingface.co/docs/peft/main/en/conceptual_guides/lora) here, which is an example of a Parameter-Efficient Fine-Tuning method. The idea of LoRa is to only train a couple of linear projection layers on top of the pre-trained base model. This means that we're not going to actually update the pre-trained weights of the TimesFM model: they are kept frozen. The only thing we're going to train are the additional linear layers (also called \"adapters\") on top of the model.\n",
        "\n",
        "Thanks to this, the memory requirements are much lower, since we only need to load the optimizer states for those adapters, and only train those. This allows us to run quite large fine-tuning runs on consumer hardware, like an NVIDIA T4 GPU.\n",
        "\n",
        "Of course, this is different from \"full fine-tuning\" (in which we would update all the weights of the model). If you have the memory for that, then feel free to do so."
      ],
      "metadata": {
        "id": "AfMY2MNXchFv"
      }
    },
    {
      "cell_type": "code",
      "source": [
        "import numpy as np\n",
        "\n",
        "from peft import LoraConfig, get_peft_model # Import PEFT components\n",
        "\n",
        "\n",
        "# 1. Define PEFT Configuration (LoRA)\n",
        "# You need to identify the linear layers in TimesFM that you want to apply LoRA to.\n",
        "# This often involves inspecting the model's architecture.\n",
        "# Common targets include attention projection layers (q, k, v, o) and feed-forward layers.\n",
        "# Let's assume for demonstration that 'q_proj', 'k_proj', 'v_proj', 'o_proj' are the target modules.\n",
        "# You might need to adjust this based on the actual layer names in TimesFM.\n",
        "lora_config = LoraConfig(\n",
        "    r=16, # LoRA attention dimension\n",
        "    lora_alpha=16, # Alpha parameter for LoRA scaling\n",
        "    target_modules=[\"q_proj\", \"k_proj\", \"v_proj\", \"o_proj\"], # Target linear layers\n",
        "    lora_dropout=0.1, # Dropout probability for LoRA layers\n",
        "    bias=\"none\", # Bias type\n",
        ")\n",
        "\n",
        "# 2. Get PEFT Model\n",
        "# Wrap your base model with the PEFT configuration\n",
        "peft_model = get_peft_model(model, lora_config)\n",
        "\n",
        "# Print the number of trainable parameters (should be much smaller than the base model)\n",
        "peft_model.print_trainable_parameters()\n",
        "\n",
        "# 3. Define Optimizer and Scheduler\n",
        "optimizer = torch.optim.AdamW(peft_model.parameters(), lr=5e-5)\n",
        "\n",
        "# You can optionally add a learning rate scheduler\n",
        "# from transformers import get_scheduler\n",
        "# num_epochs = 3\n",
        "# num_training_steps = num_epochs * len(time_series_random_dataloader)\n",
        "# lr_scheduler = get_scheduler(\n",
        "#     name=\"linear\", optimizer=optimizer, num_warmup_steps=0, num_training_steps=num_training_steps\n",
        "# )\n",
        "\n",
        "# 4. Training Loop\n",
        "num_epochs = 50 # Define the number of training epochs\n",
        "\n",
        "peft_model.train() # Set the model to training mode\n",
        "\n",
        "for epoch in range(num_epochs):\n",
        "    print(f\"Epoch {epoch + 1}/{num_epochs}\")\n",
        "    progress_bar = tqdm(time_series_random_dataloader, desc=\"Training\")\n",
        "\n",
        "    for batch in progress_bar:\n",
        "        # Move batch data to the device\n",
        "        context_batch = batch['context'].to(device=peft_model.device, dtype=torch.bfloat16 if peft_model.config.torch_dtype == 'bfloat16' else torch.float32)\n",
        "        ground_truth_batch = batch['ground_truth'].to(device=peft_model.device, dtype=torch.bfloat16 if peft_model.config.torch_dtype == 'bfloat16' else torch.float32)\n",
        "\n",
        "        # Determine the frequency ID for the new dataset\n",
        "        # Ensure the frequency ID batch matches the batch size\n",
        "        # Let's assume frequency_id 5 for minutely data as an example (check TimesFM docs)\n",
        "        frequency_id_batch = [[0]] * context_batch.shape[0]\n",
        "\n",
        "        # Forward pass\n",
        "        outputs = peft_model(\n",
        "            past_values=context_batch,\n",
        "            freq=frequency_id_batch,\n",
        "            future_values=ground_truth_batch # Provide ground truth for loss calculation\n",
        "        )\n",
        "\n",
        "        # Get the loss\n",
        "        loss = outputs.loss\n",
        "\n",
        "        # Backward pass and optimize\n",
        "        loss.backward()\n",
        "        optimizer.step()\n",
        "        # if lr_scheduler is not None:\n",
        "        #     lr_scheduler.step()\n",
        "        optimizer.zero_grad()\n",
        "\n",
        "        # Update progress bar description\n",
        "        progress_bar.set_postfix(loss=loss.item())\n",
        "\n",
        "print(\"\\nTraining finished.\")"
      ],
      "metadata": {
        "colab": {
          "base_uri": "https://localhost:8080/"
        },
        "id": "5bCDtg-RtUV6",
        "outputId": "6c185238-77a2-49a9-ea66-73c7d96c802c"
      },
      "execution_count": null,
      "outputs": [
        {
          "output_type": "stream",
          "name": "stdout",
          "text": [
            "trainable params: 8,192,000 || all params: 507,020,960 || trainable%: 1.6157\n",
            "Epoch 1/50\n"
          ]
        },
        {
          "output_type": "stream",
          "name": "stderr",
          "text": [
            "Training: 100%|██████████| 32/32 [00:45<00:00,  1.43s/it, loss=3.23e+5]\n"
          ]
        },
        {
          "output_type": "stream",
          "name": "stdout",
          "text": [
            "Epoch 2/50\n"
          ]
        },
        {
          "output_type": "stream",
          "name": "stderr",
          "text": [
            "Training: 100%|██████████| 32/32 [00:47<00:00,  1.48s/it, loss=1.3e+5]\n"
          ]
        },
        {
          "output_type": "stream",
          "name": "stdout",
          "text": [
            "Epoch 3/50\n"
          ]
        },
        {
          "output_type": "stream",
          "name": "stderr",
          "text": [
            "Training: 100%|██████████| 32/32 [00:46<00:00,  1.46s/it, loss=3.27e+5]\n"
          ]
        },
        {
          "output_type": "stream",
          "name": "stdout",
          "text": [
            "Epoch 4/50\n"
          ]
        },
        {
          "output_type": "stream",
          "name": "stderr",
          "text": [
            "Training: 100%|██████████| 32/32 [00:47<00:00,  1.47s/it, loss=1.01e+5]\n"
          ]
        },
        {
          "output_type": "stream",
          "name": "stdout",
          "text": [
            "Epoch 5/50\n"
          ]
        },
        {
          "output_type": "stream",
          "name": "stderr",
          "text": [
            "Training: 100%|██████████| 32/32 [00:46<00:00,  1.46s/it, loss=3.01e+5]\n"
          ]
        },
        {
          "output_type": "stream",
          "name": "stdout",
          "text": [
            "Epoch 6/50\n"
          ]
        },
        {
          "output_type": "stream",
          "name": "stderr",
          "text": [
            "Training: 100%|██████████| 32/32 [00:46<00:00,  1.46s/it, loss=1.32e+5]\n"
          ]
        },
        {
          "output_type": "stream",
          "name": "stdout",
          "text": [
            "Epoch 7/50\n"
          ]
        },
        {
          "output_type": "stream",
          "name": "stderr",
          "text": [
            "Training: 100%|██████████| 32/32 [00:46<00:00,  1.46s/it, loss=1.29e+5]\n"
          ]
        },
        {
          "output_type": "stream",
          "name": "stdout",
          "text": [
            "Epoch 8/50\n"
          ]
        },
        {
          "output_type": "stream",
          "name": "stderr",
          "text": [
            "Training: 100%|██████████| 32/32 [00:46<00:00,  1.46s/it, loss=1.67e+5]\n"
          ]
        },
        {
          "output_type": "stream",
          "name": "stdout",
          "text": [
            "Epoch 9/50\n"
          ]
        },
        {
          "output_type": "stream",
          "name": "stderr",
          "text": [
            "Training: 100%|██████████| 32/32 [00:46<00:00,  1.46s/it, loss=1.29e+5]\n"
          ]
        },
        {
          "output_type": "stream",
          "name": "stdout",
          "text": [
            "Epoch 10/50\n"
          ]
        },
        {
          "output_type": "stream",
          "name": "stderr",
          "text": [
            "Training: 100%|██████████| 32/32 [00:47<00:00,  1.47s/it, loss=1.4e+5]\n"
          ]
        },
        {
          "output_type": "stream",
          "name": "stdout",
          "text": [
            "Epoch 11/50\n"
          ]
        },
        {
          "output_type": "stream",
          "name": "stderr",
          "text": [
            "Training: 100%|██████████| 32/32 [00:47<00:00,  1.47s/it, loss=1.32e+5]\n"
          ]
        },
        {
          "output_type": "stream",
          "name": "stdout",
          "text": [
            "Epoch 12/50\n"
          ]
        },
        {
          "output_type": "stream",
          "name": "stderr",
          "text": [
            "Training: 100%|██████████| 32/32 [00:47<00:00,  1.47s/it, loss=1.15e+5]\n"
          ]
        },
        {
          "output_type": "stream",
          "name": "stdout",
          "text": [
            "Epoch 13/50\n"
          ]
        },
        {
          "output_type": "stream",
          "name": "stderr",
          "text": [
            "Training: 100%|██████████| 32/32 [00:47<00:00,  1.47s/it, loss=1.36e+5]\n"
          ]
        },
        {
          "output_type": "stream",
          "name": "stdout",
          "text": [
            "Epoch 14/50\n"
          ]
        },
        {
          "output_type": "stream",
          "name": "stderr",
          "text": [
            "Training: 100%|██████████| 32/32 [00:46<00:00,  1.47s/it, loss=9.53e+4]\n"
          ]
        },
        {
          "output_type": "stream",
          "name": "stdout",
          "text": [
            "Epoch 15/50\n"
          ]
        },
        {
          "output_type": "stream",
          "name": "stderr",
          "text": [
            "Training: 100%|██████████| 32/32 [00:46<00:00,  1.47s/it, loss=7.61e+4]\n"
          ]
        },
        {
          "output_type": "stream",
          "name": "stdout",
          "text": [
            "Epoch 16/50\n"
          ]
        },
        {
          "output_type": "stream",
          "name": "stderr",
          "text": [
            "Training: 100%|██████████| 32/32 [00:46<00:00,  1.46s/it, loss=1.09e+5]\n"
          ]
        },
        {
          "output_type": "stream",
          "name": "stdout",
          "text": [
            "Epoch 17/50\n"
          ]
        },
        {
          "output_type": "stream",
          "name": "stderr",
          "text": [
            "Training: 100%|██████████| 32/32 [00:46<00:00,  1.46s/it, loss=8.53e+4]\n"
          ]
        },
        {
          "output_type": "stream",
          "name": "stdout",
          "text": [
            "Epoch 18/50\n"
          ]
        },
        {
          "output_type": "stream",
          "name": "stderr",
          "text": [
            "Training: 100%|██████████| 32/32 [00:46<00:00,  1.47s/it, loss=8.5e+4]\n"
          ]
        },
        {
          "output_type": "stream",
          "name": "stdout",
          "text": [
            "Epoch 19/50\n"
          ]
        },
        {
          "output_type": "stream",
          "name": "stderr",
          "text": [
            "Training: 100%|██████████| 32/32 [00:47<00:00,  1.47s/it, loss=1.07e+5]\n"
          ]
        },
        {
          "output_type": "stream",
          "name": "stdout",
          "text": [
            "Epoch 20/50\n"
          ]
        },
        {
          "output_type": "stream",
          "name": "stderr",
          "text": [
            "Training: 100%|██████████| 32/32 [00:47<00:00,  1.47s/it, loss=1.01e+5]\n"
          ]
        },
        {
          "output_type": "stream",
          "name": "stdout",
          "text": [
            "Epoch 21/50\n"
          ]
        },
        {
          "output_type": "stream",
          "name": "stderr",
          "text": [
            "Training: 100%|██████████| 32/32 [00:47<00:00,  1.47s/it, loss=1.13e+5]\n"
          ]
        },
        {
          "output_type": "stream",
          "name": "stdout",
          "text": [
            "Epoch 22/50\n"
          ]
        },
        {
          "output_type": "stream",
          "name": "stderr",
          "text": [
            "Training: 100%|██████████| 32/32 [00:46<00:00,  1.46s/it, loss=1.23e+5]\n"
          ]
        },
        {
          "output_type": "stream",
          "name": "stdout",
          "text": [
            "Epoch 23/50\n"
          ]
        },
        {
          "output_type": "stream",
          "name": "stderr",
          "text": [
            "Training: 100%|██████████| 32/32 [00:46<00:00,  1.46s/it, loss=5.01e+4]\n"
          ]
        },
        {
          "output_type": "stream",
          "name": "stdout",
          "text": [
            "Epoch 24/50\n"
          ]
        },
        {
          "output_type": "stream",
          "name": "stderr",
          "text": [
            "Training: 100%|██████████| 32/32 [00:46<00:00,  1.46s/it, loss=1.04e+5]\n"
          ]
        },
        {
          "output_type": "stream",
          "name": "stdout",
          "text": [
            "Epoch 25/50\n"
          ]
        },
        {
          "output_type": "stream",
          "name": "stderr",
          "text": [
            "Training: 100%|██████████| 32/32 [00:46<00:00,  1.46s/it, loss=1.48e+5]\n"
          ]
        },
        {
          "output_type": "stream",
          "name": "stdout",
          "text": [
            "Epoch 26/50\n"
          ]
        },
        {
          "output_type": "stream",
          "name": "stderr",
          "text": [
            "Training: 100%|██████████| 32/32 [00:46<00:00,  1.46s/it, loss=7.37e+4]\n"
          ]
        },
        {
          "output_type": "stream",
          "name": "stdout",
          "text": [
            "Epoch 27/50\n"
          ]
        },
        {
          "output_type": "stream",
          "name": "stderr",
          "text": [
            "Training: 100%|██████████| 32/32 [00:46<00:00,  1.46s/it, loss=8.63e+4]\n"
          ]
        },
        {
          "output_type": "stream",
          "name": "stdout",
          "text": [
            "Epoch 28/50\n"
          ]
        },
        {
          "output_type": "stream",
          "name": "stderr",
          "text": [
            "Training: 100%|██████████| 32/32 [00:46<00:00,  1.47s/it, loss=8.66e+4]\n"
          ]
        },
        {
          "output_type": "stream",
          "name": "stdout",
          "text": [
            "Epoch 29/50\n"
          ]
        },
        {
          "output_type": "stream",
          "name": "stderr",
          "text": [
            "Training: 100%|██████████| 32/32 [00:46<00:00,  1.47s/it, loss=1.09e+5]\n"
          ]
        },
        {
          "output_type": "stream",
          "name": "stdout",
          "text": [
            "Epoch 30/50\n"
          ]
        },
        {
          "output_type": "stream",
          "name": "stderr",
          "text": [
            "Training: 100%|██████████| 32/32 [00:47<00:00,  1.47s/it, loss=82222.5]\n"
          ]
        },
        {
          "output_type": "stream",
          "name": "stdout",
          "text": [
            "Epoch 31/50\n"
          ]
        },
        {
          "output_type": "stream",
          "name": "stderr",
          "text": [
            "Training: 100%|██████████| 32/32 [00:47<00:00,  1.47s/it, loss=8.69e+4]\n"
          ]
        },
        {
          "output_type": "stream",
          "name": "stdout",
          "text": [
            "Epoch 32/50\n"
          ]
        },
        {
          "output_type": "stream",
          "name": "stderr",
          "text": [
            "Training: 100%|██████████| 32/32 [00:47<00:00,  1.47s/it, loss=8.22e+4]\n"
          ]
        },
        {
          "output_type": "stream",
          "name": "stdout",
          "text": [
            "Epoch 33/50\n"
          ]
        },
        {
          "output_type": "stream",
          "name": "stderr",
          "text": [
            "Training: 100%|██████████| 32/32 [00:47<00:00,  1.47s/it, loss=8.4e+4]\n"
          ]
        },
        {
          "output_type": "stream",
          "name": "stdout",
          "text": [
            "Epoch 34/50\n"
          ]
        },
        {
          "output_type": "stream",
          "name": "stderr",
          "text": [
            "Training: 100%|██████████| 32/32 [00:47<00:00,  1.47s/it, loss=9.43e+4]\n"
          ]
        },
        {
          "output_type": "stream",
          "name": "stdout",
          "text": [
            "Epoch 35/50\n"
          ]
        },
        {
          "output_type": "stream",
          "name": "stderr",
          "text": [
            "Training: 100%|██████████| 32/32 [00:47<00:00,  1.47s/it, loss=8.54e+4]\n"
          ]
        },
        {
          "output_type": "stream",
          "name": "stdout",
          "text": [
            "Epoch 36/50\n"
          ]
        },
        {
          "output_type": "stream",
          "name": "stderr",
          "text": [
            "Training: 100%|██████████| 32/32 [00:47<00:00,  1.47s/it, loss=1.11e+5]\n"
          ]
        },
        {
          "output_type": "stream",
          "name": "stdout",
          "text": [
            "Epoch 37/50\n"
          ]
        },
        {
          "output_type": "stream",
          "name": "stderr",
          "text": [
            "Training: 100%|██████████| 32/32 [00:46<00:00,  1.47s/it, loss=8.32e+4]\n"
          ]
        },
        {
          "output_type": "stream",
          "name": "stdout",
          "text": [
            "Epoch 38/50\n"
          ]
        },
        {
          "output_type": "stream",
          "name": "stderr",
          "text": [
            "Training: 100%|██████████| 32/32 [00:46<00:00,  1.47s/it, loss=4.89e+4]\n"
          ]
        },
        {
          "output_type": "stream",
          "name": "stdout",
          "text": [
            "Epoch 39/50\n"
          ]
        },
        {
          "output_type": "stream",
          "name": "stderr",
          "text": [
            "Training: 100%|██████████| 32/32 [00:46<00:00,  1.46s/it, loss=6.98e+4]\n"
          ]
        },
        {
          "output_type": "stream",
          "name": "stdout",
          "text": [
            "Epoch 40/50\n"
          ]
        },
        {
          "output_type": "stream",
          "name": "stderr",
          "text": [
            "Training: 100%|██████████| 32/32 [00:46<00:00,  1.46s/it, loss=7.94e+4]\n"
          ]
        },
        {
          "output_type": "stream",
          "name": "stdout",
          "text": [
            "Epoch 41/50\n"
          ]
        },
        {
          "output_type": "stream",
          "name": "stderr",
          "text": [
            "Training: 100%|██████████| 32/32 [00:46<00:00,  1.46s/it, loss=7.39e+4]\n"
          ]
        },
        {
          "output_type": "stream",
          "name": "stdout",
          "text": [
            "Epoch 42/50\n"
          ]
        },
        {
          "output_type": "stream",
          "name": "stderr",
          "text": [
            "Training: 100%|██████████| 32/32 [00:46<00:00,  1.46s/it, loss=6.33e+4]\n"
          ]
        },
        {
          "output_type": "stream",
          "name": "stdout",
          "text": [
            "Epoch 43/50\n"
          ]
        },
        {
          "output_type": "stream",
          "name": "stderr",
          "text": [
            "Training: 100%|██████████| 32/32 [00:46<00:00,  1.46s/it, loss=8e+4]\n"
          ]
        },
        {
          "output_type": "stream",
          "name": "stdout",
          "text": [
            "Epoch 44/50\n"
          ]
        },
        {
          "output_type": "stream",
          "name": "stderr",
          "text": [
            "Training: 100%|██████████| 32/32 [00:46<00:00,  1.46s/it, loss=1.01e+5]\n"
          ]
        },
        {
          "output_type": "stream",
          "name": "stdout",
          "text": [
            "Epoch 45/50\n"
          ]
        },
        {
          "output_type": "stream",
          "name": "stderr",
          "text": [
            "Training: 100%|██████████| 32/32 [00:46<00:00,  1.46s/it, loss=7.26e+4]\n"
          ]
        },
        {
          "output_type": "stream",
          "name": "stdout",
          "text": [
            "Epoch 46/50\n"
          ]
        },
        {
          "output_type": "stream",
          "name": "stderr",
          "text": [
            "Training: 100%|██████████| 32/32 [00:46<00:00,  1.46s/it, loss=7.4e+4]\n"
          ]
        },
        {
          "output_type": "stream",
          "name": "stdout",
          "text": [
            "Epoch 47/50\n"
          ]
        },
        {
          "output_type": "stream",
          "name": "stderr",
          "text": [
            "Training: 100%|██████████| 32/32 [00:46<00:00,  1.46s/it, loss=9.09e+4]\n"
          ]
        },
        {
          "output_type": "stream",
          "name": "stdout",
          "text": [
            "Epoch 48/50\n"
          ]
        },
        {
          "output_type": "stream",
          "name": "stderr",
          "text": [
            "Training: 100%|██████████| 32/32 [00:46<00:00,  1.46s/it, loss=8.25e+4]\n"
          ]
        },
        {
          "output_type": "stream",
          "name": "stdout",
          "text": [
            "Epoch 49/50\n"
          ]
        },
        {
          "output_type": "stream",
          "name": "stderr",
          "text": [
            "Training: 100%|██████████| 32/32 [00:46<00:00,  1.46s/it, loss=1.04e+5]\n"
          ]
        },
        {
          "output_type": "stream",
          "name": "stdout",
          "text": [
            "Epoch 50/50\n"
          ]
        },
        {
          "output_type": "stream",
          "name": "stderr",
          "text": [
            "Training: 100%|██████████| 32/32 [00:46<00:00,  1.46s/it, loss=8.59e+4]"
          ]
        },
        {
          "output_type": "stream",
          "name": "stdout",
          "text": [
            "\n",
            "Training finished.\n"
          ]
        },
        {
          "output_type": "stream",
          "name": "stderr",
          "text": [
            "\n"
          ]
        }
      ]
    },
    {
      "cell_type": "markdown",
      "source": [
        "## Inference\n",
        "\n",
        "Once the model is trained, we can perform inference by performing a forward pass."
      ],
      "metadata": {
        "id": "n2z2BG_SccIM"
      }
    },
    {
      "cell_type": "code",
      "source": [
        "from matplotlib import pyplot as plt\n",
        "\n",
        "\n",
        "with torch.inference_mode():\n",
        "  outputs = peft_model(past_values=past_values, freq=frequency_id)\n",
        "\n",
        "context_indices = range(0, context_length-horizon_length)\n",
        "plt.plot(context_indices, context_values, label='Context Data', color='blue')\n",
        "\n",
        "# Plot the ground truth data\n",
        "ground_truth_indices = range(context_length-horizon_length, context_length)\n",
        "plt.plot(ground_truth_indices, ground_truth, label='Ground Truth', color='green')\n",
        "\n",
        "# Plot the predicted values\n",
        "predicted_indices = range(context_length-horizon_length, context_length)\n",
        "plt.plot(predicted_indices, outputs.mean_predictions[0].cpu(), label='Mean Predictions', color='red', linestyle='--')\n",
        "\n",
        "plt.xlabel('Time Index')\n",
        "plt.ylabel('Requests per minute')\n",
        "plt.title(f'TimesFM Forecasting for df_requests[\\'3\\'] (Context Length: {context_length}, Horizon Length: {horizon_length})')\n",
        "plt.legend()\n",
        "plt.grid(True)\n",
        "plt.show()"
      ],
      "metadata": {
        "colab": {
          "base_uri": "https://localhost:8080/",
          "height": 472
        },
        "id": "07FxUxzatqKu",
        "outputId": "338dbe1f-b983-4281-94e9-c6eb2f1082aa"
      },
      "execution_count": null,
      "outputs": [
        {
          "output_type": "display_data",
          "data": {
            "text/plain": [
              "<Figure size 640x480 with 1 Axes>"
            ],
            "image/png": "[encoded data removed]"
          },
          "metadata": {}
        }
      ]
    }
  ]
}